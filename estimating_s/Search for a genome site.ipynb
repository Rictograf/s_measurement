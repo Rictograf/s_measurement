{
 "cells": [
  {
   "cell_type": "code",
   "execution_count": 4,
   "id": "9322ca79",
   "metadata": {},
   "outputs": [],
   "source": [
    "start_='ATGTTTGTTTTTC' #start of the sequence\n",
    "stop_='TTACATTACACAT' #stop of the sequence\n",
    "number=3 #period number\n",
    "region = 'UK'\n",
    "clad = ''\n",
    "path_s=f'' #file in which genome sites will be saved\n",
    "genoms=open(f'') #The name of the source data file\n",
    "\n",
    "\n",
    "def FindSeq(seq): #function for finding a genome site\n",
    "    start=seq.find(start_)\n",
    "    stop=seq.find(stop_)\n",
    "    spike=seq[start:stop+len(stop_)]\n",
    "    return spike\n",
    "\n",
    "spk=open(path_s,'w+') \n",
    "seqes=genoms.read() \n",
    "seqs=seqes.split('>')\n",
    "genoms.close()\n",
    "proverk=''\n",
    "for i,sq in enumerate(seqs):\n",
    "    seq1=sq.replace('\\n','') \n",
    "    kod=FindSeq(seq1)\n",
    "    for ch in ['R','Y','M','K','W','S','B','V','H','D','N']:\n",
    "        if ch in kod:\n",
    "            kod=kod.replace(ch,'-')\n",
    "    if kod!='':# and kod.count('-')<=100:# and proverk.find(kod)==-1: #conditions for the site to be and for there to be fewer gaps than the number\n",
    "        if proverk!='':\n",
    "            spk.write('\\n')  \n",
    "        spk.write('>')\n",
    "        spk.write(f'cov{number}{region}_{clad}'+f'_{i}\\n')\n",
    "        proverk=proverk+kod\n",
    "        spk.write(kod)\n",
    "spk.close()"
   ]
  },
  {
   "cell_type": "code",
   "execution_count": 22,
   "id": "bc7be559",
   "metadata": {},
   "outputs": [],
   "source": [
    "number=1 #period number\n",
    "\n",
    "path_s=f'' #file in which genome sites will be saved\n",
    "genoms=open(f'') #The name of the source data file\n",
    "\n",
    "spk=open(path_s,'w+') \n",
    "seqes=genoms.read() \n",
    "seqs=seqes.split('>')\n",
    "genoms.close()\n",
    "proverk=''\n",
    "for i,sq in enumerate(seqs):\n",
    "    nameseq=sq.split('\\n')\n",
    "#     seq1=sq.replace('\\n','')\n",
    "    if nameseq!=['']:\n",
    "#         print(nameseq[1])\n",
    "        kod = nameseq[1]\n",
    "#     for ch in ['R','Y','M','K','W','S','B','V','H','D','N']:\n",
    "#         if ch in kod:\n",
    "#             kod=kod.replace(ch,'-')\n",
    "        if kod!='':# and kod.count('-')<=100:# and proverk.find(kod)==-1: #conditions for the site to be and for there to be fewer gaps than the number\n",
    "            if proverk!='':\n",
    "                spk.write('\\n')  \n",
    "            spk.write('>')\n",
    "            spk.write(f'hiv{number}'+f'_{i}\\n')\n",
    "            proverk=proverk+kod\n",
    "            spk.write(kod)\n",
    "spk.close()"
   ]
  }
 ],
 "metadata": {
  "kernelspec": {
   "display_name": "Python 3 (ipykernel)",
   "language": "python",
   "name": "python3"
  },
  "language_info": {
   "codemirror_mode": {
    "name": "ipython",
    "version": 3
   },
   "file_extension": ".py",
   "mimetype": "text/x-python",
   "name": "python",
   "nbconvert_exporter": "python",
   "pygments_lexer": "ipython3",
   "version": "3.9.13"
  }
 },
 "nbformat": 4,
 "nbformat_minor": 5
}
